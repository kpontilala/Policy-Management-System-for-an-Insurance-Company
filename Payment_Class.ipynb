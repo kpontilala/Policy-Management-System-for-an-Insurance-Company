{
 "cells": [
  {
   "cell_type": "markdown",
   "id": "a97eaafc",
   "metadata": {},
   "source": [
    "## Policy Management System for an Insurance Company\n",
    "\n",
    "#### Payment Class"
   ]
  },
  {
   "cell_type": "code",
   "execution_count": 1,
   "id": "162104d0",
   "metadata": {},
   "outputs": [],
   "source": [
    "class Payments:\n",
    "    def __init__(self, PolicyHolder_ID, product_id, amount):\n",
    "        self.product_id = product_id\n",
    "        self.amount = amount\n",
    "        self.PolicyHolder_ID = PolicyHolder_ID\n",
    "\n",
    "class PaymentManager:\n",
    "    def __init__(self):\n",
    "        self.payments = []  # empty payment list\n",
    "\n",
    "    def process_payment(self,PolicyHolder_ID, product_id, amount):\n",
    "        payment = Payments(PolicyHolder_ID, product_id, amount)\n",
    "        \n",
    "        # Append the payment to the payments list\n",
    "        self.payments.append(payment)\n",
    "        \n",
    "        print(f\"Payment(Policyholder ID: {payment.PolicyHolder_ID}, Product ID: {payment.product_id}, Amount: ${payment.amount:,})\")\n",
    "\n",
    "    def payment_reminders(self, PolicyHolder_ID, product_id):\n",
    "        print(f\"Reminder sent to PolicyHolder: {PolicyHolder_ID}, for Product ID: {product_id}\")\n",
    "\n",
    "    def apply_penalty(self,payment,penalty_amount):\n",
    "        payment.amount += penalty_amount\n",
    "        print(f\"Penalty of: ${penalty_amount:,} due, new amount due: ${payment.amount:,}\")\n",
    "        \n",
    "    def print_all_payments(self):\n",
    "        for payment in self.payments:\n",
    "            print(f\"Payment Amount: ${payment.amount:,}\")\n",
    "        "
   ]
  },
  {
   "cell_type": "code",
   "execution_count": 2,
   "id": "a0e1054a",
   "metadata": {},
   "outputs": [
    {
     "name": "stdout",
     "output_type": "stream",
     "text": [
      "Payment(Policyholder ID: 100, Product ID: LI, Amount: $200,000)\n"
     ]
    }
   ],
   "source": [
    "#processing a payment  for PolicyHolder 100\n",
    "\n",
    "PolicyHolder_ID_1 =\"100\"\n",
    "product_id_1 = \"LI\"\n",
    "amount_1 = 200000\n",
    "\n",
    "payment_processor = PaymentManager()\n",
    "\n",
    "payment_processor.process_payment(PolicyHolder_ID_1, product_id_1, amount_1)"
   ]
  },
  {
   "cell_type": "code",
   "execution_count": 3,
   "id": "b8b0822c",
   "metadata": {},
   "outputs": [
    {
     "name": "stdout",
     "output_type": "stream",
     "text": [
      "Reminder sent to PolicyHolder: 100, for Product ID: LI\n"
     ]
    }
   ],
   "source": [
    "#sending a reminder for PolicyHolder 100\n",
    "payment_processor.payment_reminders(PolicyHolder_ID_1, product_id_1)"
   ]
  },
  {
   "cell_type": "code",
   "execution_count": 4,
   "id": "a42bf2b5",
   "metadata": {},
   "outputs": [
    {
     "name": "stdout",
     "output_type": "stream",
     "text": [
      "Penalty of: $100 due, new amount due: $200,100\n"
     ]
    }
   ],
   "source": [
    "#applying penalty for late payment for PolicyHolder 100\n",
    "\n",
    "payment= payment_processor.payments[0]\n",
    "penalty_amount=100\n",
    "\n",
    "payment_processor.apply_penalty(payment,penalty_amount)"
   ]
  },
  {
   "cell_type": "code",
   "execution_count": 5,
   "id": "06694141",
   "metadata": {},
   "outputs": [
    {
     "name": "stdout",
     "output_type": "stream",
     "text": [
      "Payment(Policyholder ID: 101, Product ID: HI, Amount: $600,000)\n"
     ]
    }
   ],
   "source": [
    "#processing a payment for PolicyHolder 101\n",
    "\n",
    "PolicyHolder_ID_2 =\"101\"\n",
    "product_id_2 = \"HI\"\n",
    "amount_2 = 600000\n",
    "\n",
    "payment_processor = PaymentManager()\n",
    "\n",
    "payment_processor.process_payment(PolicyHolder_ID_2, product_id_2, amount_2)"
   ]
  },
  {
   "cell_type": "code",
   "execution_count": 6,
   "id": "50eda7a7",
   "metadata": {},
   "outputs": [
    {
     "name": "stdout",
     "output_type": "stream",
     "text": [
      "Reminder sent to PolicyHolder: 101, for Product ID: HI\n"
     ]
    }
   ],
   "source": [
    "#sending a reminder for PolicyHolder 101\n",
    "payment_processor.payment_reminders(PolicyHolder_ID_2, product_id_2)"
   ]
  },
  {
   "cell_type": "code",
   "execution_count": 7,
   "id": "7d434878",
   "metadata": {},
   "outputs": [
    {
     "name": "stdout",
     "output_type": "stream",
     "text": [
      "Penalty of: $100 due, new amount due: $600,100\n"
     ]
    }
   ],
   "source": [
    "#applying penalty for late payment for PolicyHolder 101\n",
    "\n",
    "payment= payment_processor.payments[0]\n",
    "penalty_amount=100\n",
    "\n",
    "payment_processor.apply_penalty(payment,penalty_amount)"
   ]
  },
  {
   "cell_type": "code",
   "execution_count": 8,
   "id": "5087107b",
   "metadata": {},
   "outputs": [
    {
     "name": "stdout",
     "output_type": "stream",
     "text": [
      "Payment Amount: $600,100\n"
     ]
    }
   ],
   "source": [
    "payment_processor.print_all_payments()"
   ]
  },
  {
   "cell_type": "code",
   "execution_count": null,
   "id": "918c0ebb",
   "metadata": {},
   "outputs": [],
   "source": []
  }
 ],
 "metadata": {
  "kernelspec": {
   "display_name": "Python 3 (ipykernel)",
   "language": "python",
   "name": "python3"
  },
  "language_info": {
   "codemirror_mode": {
    "name": "ipython",
    "version": 3
   },
   "file_extension": ".py",
   "mimetype": "text/x-python",
   "name": "python",
   "nbconvert_exporter": "python",
   "pygments_lexer": "ipython3",
   "version": "3.9.13"
  }
 },
 "nbformat": 4,
 "nbformat_minor": 5
}
