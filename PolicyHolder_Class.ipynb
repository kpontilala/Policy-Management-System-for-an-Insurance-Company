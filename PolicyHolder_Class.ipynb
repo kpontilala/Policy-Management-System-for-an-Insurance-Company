{
 "cells": [
  {
   "cell_type": "markdown",
   "id": "83aff4ac",
   "metadata": {},
   "source": [
    "## Policy Management System for an Insurance Company\n",
    "\n",
    "##### Policy Holder's Class"
   ]
  },
  {
   "cell_type": "code",
   "execution_count": 1,
   "id": "66950199",
   "metadata": {},
   "outputs": [],
   "source": [
    "class PolicyHolders:\n",
    "    existing_members = []\n",
    "    \n",
    "    def __init__(self,name,ID):\n",
    "        \n",
    "        self.AccountName = name\n",
    "        self.PolicyHolder_ID = ID\n",
    "        self.active = True\n",
    "    \n",
    "        \n",
    "    def register_member(self):   #method for registring new members using ID\n",
    "        for member in PolicyHolders.existing_members:\n",
    "            if member.PolicyHolder_ID == self.PolicyHolder_ID:\n",
    "                print(\"Policy Holder's ID already exist\")\n",
    "                return\n",
    "            \n",
    "        else:\n",
    "            PolicyHolders.existing_members.append(self)\n",
    "            print(f\"Account Name:{self.AccountName}\")\n",
    "            print(f\"Policy Holder's ID:{self.PolicyHolder_ID}\")\n",
    "            print(f\"Active: {self.active}\")\n",
    "        \n",
    "    def suspend_member(self):\n",
    "        self.active = False\n",
    "        print(f\"Account Name: {self.AccountName} with ID: {self.PolicyHolder_ID}, has been suspended\")\n",
    "               \n",
    "    def reactivate_member(self):\n",
    "        self.active = True\n",
    "        print(f\"Account Name: {self.AccountName} with ID: {self.PolicyHolder_ID}, has been reactivated\")\n",
    "    \n",
    "    def add_product(self,product):\n",
    "        self.products.append(product)\n",
    "        print(f\"Product: {product.name} added to policy member with ID: {self.PolicyHolder_ID}\")\n",
    "    \n",
    "    def add_payment(self,payment):\n",
    "        self.payments.append(payment)\n",
    "        \n",
    "       \n",
    "   # def display_details(self):\n",
    "   #     print(f\"\\n Policy holder's details include:\")\n",
    "   #     print(f\"Name: {self.name}\")\n",
    "   #     print(f\"Policy Holder ID: {ID}\")\n",
    "   #     print(f\" Products: {','.join(product_types) if product_types else 'No products subscribed'}\")      \n",
    "        "
   ]
  },
  {
   "cell_type": "code",
   "execution_count": 2,
   "id": "ae84c7e2",
   "metadata": {},
   "outputs": [
    {
     "name": "stdout",
     "output_type": "stream",
     "text": [
      "Account Name:Emmanuel Chigozie\n",
      "Policy Holder's ID:100\n",
      "Active: True\n",
      "Account Name:Oluwatoyin Awe\n",
      "Policy Holder's ID:101\n",
      "Active: True\n",
      "Account Name:Bintia German\n",
      "Policy Holder's ID:102\n",
      "Active: True\n"
     ]
    }
   ],
   "source": [
    "#registering members\n",
    "Member1 = PolicyHolders(\"Emmanuel Chigozie\", 100)\n",
    "Member2 = PolicyHolders(\"Oluwatoyin Awe\", 101)\n",
    "Member3 = PolicyHolders(\"Bintia German\", 102)\n",
    "\n",
    "\n",
    "Member1.register_member()\n",
    "Member2.register_member()\n",
    "Member3.register_member()\n"
   ]
  },
  {
   "cell_type": "code",
   "execution_count": 3,
   "id": "7814d898",
   "metadata": {},
   "outputs": [
    {
     "name": "stdout",
     "output_type": "stream",
     "text": [
      "Policy Holder's ID already exist\n"
     ]
    }
   ],
   "source": [
    "#registering member with same ID\n",
    "\n",
    "Member4 = PolicyHolders(\"Ohiani Aroke\", 102)\n",
    "Member4.register_member()"
   ]
  },
  {
   "cell_type": "code",
   "execution_count": 4,
   "id": "72900e37",
   "metadata": {},
   "outputs": [
    {
     "name": "stdout",
     "output_type": "stream",
     "text": [
      "Account Name: Bintia German with ID: 102, has been suspended\n"
     ]
    }
   ],
   "source": [
    "#suspending a member\n",
    "\n",
    "Member3.suspend_member()"
   ]
  },
  {
   "cell_type": "code",
   "execution_count": 5,
   "id": "ee72c6a2",
   "metadata": {},
   "outputs": [
    {
     "name": "stdout",
     "output_type": "stream",
     "text": [
      "Account Name: Bintia German with ID: 102, has been reactivated\n"
     ]
    }
   ],
   "source": [
    "#reactivating member\n",
    "\n",
    "Member3.reactivate_member()"
   ]
  },
  {
   "cell_type": "code",
   "execution_count": null,
   "id": "d86a4432",
   "metadata": {},
   "outputs": [],
   "source": []
  }
 ],
 "metadata": {
  "kernelspec": {
   "display_name": "Python 3 (ipykernel)",
   "language": "python",
   "name": "python3"
  },
  "language_info": {
   "codemirror_mode": {
    "name": "ipython",
    "version": 3
   },
   "file_extension": ".py",
   "mimetype": "text/x-python",
   "name": "python",
   "nbconvert_exporter": "python",
   "pygments_lexer": "ipython3",
   "version": "3.9.13"
  }
 },
 "nbformat": 4,
 "nbformat_minor": 5
}
