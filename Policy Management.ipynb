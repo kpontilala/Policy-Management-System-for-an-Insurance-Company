{
 "cells": [
  {
   "cell_type": "markdown",
   "id": "b372e38e",
   "metadata": {},
   "source": [
    "## Policy Management System for an Insurance Company\n",
    "\n",
    "\n",
    "#### Policy Management class"
   ]
  },
  {
   "cell_type": "code",
   "execution_count": 1,
   "id": "ae2e800b",
   "metadata": {},
   "outputs": [],
   "source": [
    "from Payment import Payments\n",
    "from Payment import PaymentManager\n",
    "from PolicyHolder import PolicyHolders\n",
    "from Product import Products"
   ]
  },
  {
   "cell_type": "code",
   "execution_count": 2,
   "id": "f660ebef",
   "metadata": {},
   "outputs": [],
   "source": [
    "#creating policyholders\n",
    "\n",
    "PolicyHolder1 = PolicyHolders(\"Emmanuel Chigozie\", 100)\n",
    "PolicyHolder2 = PolicyHolders(\"Oluwatoyin Awe\", 101)\n",
    "PolicyHolder3 = PolicyHolders(\"Bintia German\", 102)"
   ]
  },
  {
   "cell_type": "code",
   "execution_count": 3,
   "id": "f581d35a",
   "metadata": {},
   "outputs": [],
   "source": [
    "#create product\n",
    "\n",
    "Life_insurance = Products(\"Life_insurance\", 200000, \"LI\")\n",
    "Health_insurance = Products(\"Health_insurance\", 600000, \"HI\")\n",
    "Car_insurance = Products(\"Car_insurance\", 300000, \"CI\")"
   ]
  },
  {
   "cell_type": "code",
   "execution_count": 4,
   "id": "4cd8718d",
   "metadata": {},
   "outputs": [
    {
     "name": "stdout",
     "output_type": "stream",
     "text": [
      "Payment for : (Policyholder ID: 100, for Product ID: LI,  is $200,000)\n"
     ]
    }
   ],
   "source": [
    "#process payment for policyholder 1\n",
    "PolicyHolder_ID_1 =\"100\"\n",
    "product_id_1 = \"LI\"\n",
    "amount_1 = 200000\n",
    "\n",
    "Payment1 = PaymentManager()\n",
    "\n",
    "Payment1.process_payment(PolicyHolder_ID_1, product_id_1, amount_1)"
   ]
  },
  {
   "cell_type": "code",
   "execution_count": 5,
   "id": "7996191c",
   "metadata": {},
   "outputs": [
    {
     "name": "stdout",
     "output_type": "stream",
     "text": [
      "Payment for : (Policyholder ID: 101, for Product ID: HI,  is $600,000)\n"
     ]
    }
   ],
   "source": [
    "#process payment for policyholder 2\n",
    "\n",
    "PolicyHolder_ID_2 =\"101\"\n",
    "product_id_2 = \"HI\"\n",
    "amount_2 = 600000\n",
    "\n",
    "Payment2 = PaymentManager()\n",
    "\n",
    "Payment2.process_payment(PolicyHolder_ID_2, product_id_2, amount_2)"
   ]
  },
  {
   "cell_type": "code",
   "execution_count": 6,
   "id": "bfae305f",
   "metadata": {},
   "outputs": [
    {
     "name": "stdout",
     "output_type": "stream",
     "text": [
      "Payment for : (Policyholder ID: 102, for Product ID: CI,  is $300,000)\n"
     ]
    }
   ],
   "source": [
    "#process payment for policyholder 3\n",
    "\n",
    "PolicyHolder_ID_3 =\"102\"\n",
    "product_id_3 = \"CI\"\n",
    "amount_3 = 300000\n",
    "\n",
    "Payment3 = PaymentManager()\n",
    "\n",
    "Payment3.process_payment(PolicyHolder_ID_3, product_id_3, amount_3)"
   ]
  },
  {
   "cell_type": "code",
   "execution_count": 7,
   "id": "8cc286ed",
   "metadata": {},
   "outputs": [
    {
     "name": "stdout",
     "output_type": "stream",
     "text": [
      "Account Name:Emmanuel Chigozie\n",
      "Policy Holder's ID:100\n",
      "Active: True\n",
      " \n",
      "Account Name:Oluwatoyin Awe\n",
      "Policy Holder's ID:101\n",
      "Active: True\n",
      " \n",
      "Account Name:Bintia German\n",
      "Policy Holder's ID:102\n",
      "Active: True\n"
     ]
    }
   ],
   "source": [
    "#register PolicyHolders\n",
    "\n",
    "PolicyHolder1.register_member()\n",
    "print(' ')\n",
    "PolicyHolder2.register_member()\n",
    "print(' ')\n",
    "PolicyHolder3.register_member()"
   ]
  },
  {
   "cell_type": "code",
   "execution_count": 8,
   "id": "b9c37a31",
   "metadata": {},
   "outputs": [
    {
     "name": "stdout",
     "output_type": "stream",
     "text": [
      "Product: Life_insurance added to policy member with ID: 100\n",
      "Product: Health_insurance added to policy member with ID: 101\n",
      "Product: Car_insurance added to policy member with ID: 102\n"
     ]
    }
   ],
   "source": [
    "#Adding product purchased to policy holders\n",
    "\n",
    "PolicyHolder1.add_product(Life_insurance)\n",
    "PolicyHolder2.add_product(Health_insurance)\n",
    "PolicyHolder3.add_product(Car_insurance)"
   ]
  },
  {
   "cell_type": "code",
   "execution_count": 9,
   "id": "74ba1a2b",
   "metadata": {},
   "outputs": [
    {
     "name": "stdout",
     "output_type": "stream",
     "text": [
      "PolicyHolder ID: 100\n",
      "Account Name: Emmanuel Chigozie\n",
      "Active: True\n",
      "Products: Life_insurance\n",
      "\n",
      "Total payments:\n",
      "$200,000\n"
     ]
    }
   ],
   "source": [
    "#displaying Account details\n",
    "\n",
    "PolicyHolder1.display_account_details()\n",
    "print(\"\\nTotal payments:\")\n",
    "for Payment in Payment1.payments:\n",
    "    print(f\"${Payment.amount:,}\")"
   ]
  },
  {
   "cell_type": "code",
   "execution_count": 10,
   "id": "e1d6f3b9",
   "metadata": {},
   "outputs": [
    {
     "name": "stdout",
     "output_type": "stream",
     "text": [
      "PolicyHolder ID: 101\n",
      "Account Name: Oluwatoyin Awe\n",
      "Active: True\n",
      "Products: Health_insurance\n",
      "\n",
      "Total payments:\n",
      "$600,000\n"
     ]
    }
   ],
   "source": [
    "PolicyHolder2.display_account_details()\n",
    "print(\"\\nTotal payments:\")\n",
    "for Payment in Payment2.payments:\n",
    "    print(f\"${Payment.amount:,}\")"
   ]
  },
  {
   "cell_type": "code",
   "execution_count": 11,
   "id": "8af1e529",
   "metadata": {},
   "outputs": [
    {
     "name": "stdout",
     "output_type": "stream",
     "text": [
      "PolicyHolder ID: 102\n",
      "Account Name: Bintia German\n",
      "Active: True\n",
      "Products: Car_insurance\n",
      "\n",
      "Total payments:\n",
      "$300,000\n"
     ]
    }
   ],
   "source": [
    "PolicyHolder3.display_account_details()\n",
    "print(\"\\nTotal payments:\")\n",
    "for Payment in Payment3.payments:\n",
    "    print(f\"${Payment.amount:,}\")"
   ]
  },
  {
   "cell_type": "code",
   "execution_count": null,
   "id": "a8e16769",
   "metadata": {},
   "outputs": [],
   "source": []
  }
 ],
 "metadata": {
  "kernelspec": {
   "display_name": "Python 3 (ipykernel)",
   "language": "python",
   "name": "python3"
  },
  "language_info": {
   "codemirror_mode": {
    "name": "ipython",
    "version": 3
   },
   "file_extension": ".py",
   "mimetype": "text/x-python",
   "name": "python",
   "nbconvert_exporter": "python",
   "pygments_lexer": "ipython3",
   "version": "3.9.13"
  }
 },
 "nbformat": 4,
 "nbformat_minor": 5
}
