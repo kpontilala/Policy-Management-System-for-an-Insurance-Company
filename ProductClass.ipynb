{
 "cells": [
  {
   "cell_type": "markdown",
   "id": "76535e9f",
   "metadata": {},
   "source": [
    "## Policy Management System for an Insurance Company\n",
    "\n",
    "#### Product class"
   ]
  },
  {
   "cell_type": "code",
   "execution_count": 1,
   "id": "4bd2b099",
   "metadata": {},
   "outputs": [],
   "source": [
    "class Products:\n",
    "    def __init__(self,name,Price,product_id):\n",
    "        self.name = name\n",
    "        self.Price = Price\n",
    "        self.product_id = product_id\n",
    "        self.active = True\n",
    "        products = []\n",
    "        \n",
    "    def create_product(self):\n",
    "        print(f\"Product Name: {self.name}\")\n",
    "        print(f\"Product Price : ${self.Price:,}\")\n",
    "        print(f\"Product ID: {self.product_id}\")\n",
    "    \n",
    "    def update_product(self, new_name=None, new_Price=None):\n",
    "        if new_name != self.name or new_Price != self.Price:\n",
    "            self.name = new_name\n",
    "            self.Price = new_Price\n",
    "            \n",
    "            print(f\"Product with ID: {self.product_id} has been updated\") \n",
    "            \n",
    "        else:\n",
    "            print('No update was carried out')\n",
    "            \n",
    "            \n",
    "    def suspend_product(self):\n",
    "        self.active = False\n",
    "        print(f\" product: {self.name} with ID: {self.product_id}, has been suspended\")\n",
    "        \n",
    "    def reactivate_product(self):\n",
    "        self.active = True\n",
    "        print(f\" product: {self.name} with ID: {self.product_id}, has been reactivated\")"
   ]
  },
  {
   "cell_type": "code",
   "execution_count": 2,
   "id": "a29ce990",
   "metadata": {},
   "outputs": [
    {
     "name": "stdout",
     "output_type": "stream",
     "text": [
      "Product Name: Life_insurance\n",
      "Product Price : $200,000\n",
      "Product ID: LI\n",
      "Product Name: Health_insurance\n",
      "Product Price : $600,000\n",
      "Product ID: HI\n",
      "Product Name: Car_insurance\n",
      "Product Price : $300,000\n",
      "Product ID: CI\n",
      "Product Name: Travel_insurance\n",
      "Product Price : $10,000\n",
      "Product ID: TI\n"
     ]
    }
   ],
   "source": [
    "#creating New product\n",
    "\n",
    "Life_insurance = Products(\"Life_insurance\", 200000, \"LI\")\n",
    "Health_insurance = Products(\"Health_insurance\", 600000, \"HI\")\n",
    "Car_insurance = Products(\"Car_insurance\", 300000, \"CI\")\n",
    "Travel_insurance = Products(\"Travel_insurance\", 10000, \"TI\")\n",
    "\n",
    "Life_insurance.create_product()\n",
    "Health_insurance.create_product()\n",
    "Car_insurance.create_product()\n",
    "Travel_insurance.create_product()"
   ]
  },
  {
   "cell_type": "code",
   "execution_count": 3,
   "id": "586337f6",
   "metadata": {},
   "outputs": [
    {
     "name": "stdout",
     "output_type": "stream",
     "text": [
      "Product with ID: LI has been updated\n"
     ]
    }
   ],
   "source": [
    "#Updating the life_insurance product\n",
    "\n",
    "Life_insurance.update_product(new_name=\"Life_insurance\", new_Price=800000)"
   ]
  },
  {
   "cell_type": "code",
   "execution_count": 4,
   "id": "f9b1f666",
   "metadata": {},
   "outputs": [
    {
     "name": "stdout",
     "output_type": "stream",
     "text": [
      "No update was carried out\n"
     ]
    }
   ],
   "source": [
    "#updating with same value\n",
    "\n",
    "Car_insurance.update_product(new_name=\"Car_insurance\",new_Price= 300000)"
   ]
  },
  {
   "cell_type": "code",
   "execution_count": 5,
   "id": "9ea0bbf3",
   "metadata": {},
   "outputs": [
    {
     "name": "stdout",
     "output_type": "stream",
     "text": [
      " product: Travel_insurance with ID: TI, has been suspended\n"
     ]
    }
   ],
   "source": [
    "#suspend product\n",
    "\n",
    "Travel_insurance.suspend_product()"
   ]
  },
  {
   "cell_type": "code",
   "execution_count": 6,
   "id": "bcdf938c",
   "metadata": {},
   "outputs": [
    {
     "name": "stdout",
     "output_type": "stream",
     "text": [
      " product: Travel_insurance with ID: TI, has been reactivated\n"
     ]
    }
   ],
   "source": [
    "#reactivate product\n",
    "\n",
    "Travel_insurance.reactivate_product()"
   ]
  },
  {
   "cell_type": "code",
   "execution_count": null,
   "id": "c2e8164d",
   "metadata": {},
   "outputs": [],
   "source": []
  }
 ],
 "metadata": {
  "kernelspec": {
   "display_name": "Python 3 (ipykernel)",
   "language": "python",
   "name": "python3"
  },
  "language_info": {
   "codemirror_mode": {
    "name": "ipython",
    "version": 3
   },
   "file_extension": ".py",
   "mimetype": "text/x-python",
   "name": "python",
   "nbconvert_exporter": "python",
   "pygments_lexer": "ipython3",
   "version": "3.9.13"
  }
 },
 "nbformat": 4,
 "nbformat_minor": 5
}
